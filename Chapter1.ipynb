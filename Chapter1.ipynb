{
 "cells": [
  {
   "cell_type": "code",
   "execution_count": 1,
   "id": "52d961f9-770f-4bac-8b09-e44c675d79cd",
   "metadata": {
    "tags": []
   },
   "outputs": [],
   "source": [
    "import arviz as az\n",
    "import daft\n",
    "import matplotlib.pyplot as plt\n",
    "import numpy as np\n",
    "import pandas as pd\n",
    "import pymc as pm\n",
    "import pytensor as pt\n",
    "from packaging import version"
   ]
  },
  {
   "cell_type": "code",
   "execution_count": 2,
   "id": "1ae8bbc6-e401-47a0-8735-56be67390729",
   "metadata": {
    "tags": []
   },
   "outputs": [],
   "source": [
    "assert version.parse(pm.__version__) >= version.parse(\"5.8.0\")"
   ]
  },
  {
   "cell_type": "code",
   "execution_count": 3,
   "id": "a1c0d607-5191-49b4-ae05-b09e88e414e3",
   "metadata": {
    "tags": []
   },
   "outputs": [],
   "source": [
    "# define data\n",
    "class chap1():\n",
    "    # initialize data\n",
    "    def __init__(self):\n",
    "        self.df1 = pd.DataFrame(\n",
    "            {'Ya0': [0, 1, 0, 0, 0, 1, 0, 0, 1, 1, 0, 1, 1, 0, 0, 0, 1, 1, 1, 1], \n",
    "             'Ya1': [1, 0, 0, 0, 0, 0, 0, 1, 1, 0, 1, 1, 1, 1, 1, 1, 1, 0, 0, 0],\n",
    "             'A': [0, 0, 0, 0, 1, 1, 1, 1, 0, 0, 0, 1, 1, 1, 1, 1, 1, 1, 1, 1]},\n",
    "            index = ['Rheia', 'Kronos','Demeter','Hades','Hestia','Poseidon',\n",
    "                     'Hera','Zeus','Artemis','Apollo','Leto','Ares','Athena',\n",
    "                     'Hephaestus','Aphrodite','Polyphemus','Persephone','Hermes',\n",
    "                     'Hebe','Dionysus'])\n",
    "        self.avg_eff = 0.0\n",
    "        self.risk_diff = 0.0\n",
    "        # calculate effect\n",
    "        self.df1['causal_effect'] = self.df1['Ya0'] - self.df1['Ya1']\n",
    "    # calculate average effects \n",
    "    def calc_avg_eff(self):\n",
    "        \n",
    "    # calculate average risk\n",
    "    def calc_risk_diff(self,colname):\n",
    "        self.risk_diff = ( \n",
    "            df1[ df1['Ya0'] == 1]['Ya0'].count() / df1['Ya0'].count() \n",
    "        ) - ( \n",
    "            df1[ df1['Ya1'] == 1]['Ya1'].count() / df1['Ya1'].count() \n",
    "        )\n",
    "        \n",
    "        "
   ]
  },
  {
   "cell_type": "code",
   "execution_count": null,
   "id": "0daf5d6b-40ad-4ff6-b5e1-21791fdbf63d",
   "metadata": {},
   "outputs": [],
   "source": []
  }
 ],
 "metadata": {
  "kernelspec": {
   "display_name": "pymc310",
   "language": "python",
   "name": "pymc310"
  },
  "language_info": {
   "codemirror_mode": {
    "name": "ipython",
    "version": 3
   },
   "file_extension": ".py",
   "mimetype": "text/x-python",
   "name": "python",
   "nbconvert_exporter": "python",
   "pygments_lexer": "ipython3",
   "version": "3.10.12"
  }
 },
 "nbformat": 4,
 "nbformat_minor": 5
}
